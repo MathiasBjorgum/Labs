{
 "cells": [
  {
   "cell_type": "code",
   "execution_count": 1,
   "id": "bbc1d173",
   "metadata": {},
   "outputs": [],
   "source": [
    "import nltk\n",
    "from collections import defaultdict"
   ]
  },
  {
   "cell_type": "code",
   "execution_count": 2,
   "id": "b191048f",
   "metadata": {},
   "outputs": [],
   "source": [
    "corpus = nltk.corpus.gutenberg\n",
    "bible = 'bible-kjv.txt'\n",
    "bible_words = corpus.words(bible)"
   ]
  },
  {
   "cell_type": "code",
   "execution_count": 3,
   "id": "af087ac8",
   "metadata": {},
   "outputs": [],
   "source": [
    "bible_pos = nltk.pos_tag(bible_words)"
   ]
  },
  {
   "cell_type": "code",
   "execution_count": 4,
   "id": "f010860e",
   "metadata": {},
   "outputs": [
    {
     "name": "stdout",
     "output_type": "stream",
     "text": [
      "unto: {'RBR', 'VBP', 'IN', 'VBZ', 'VBD', 'RP', 'PRP$', 'NNS', 'VB', 'MD', 'JJ', 'CC', 'NN', 'RB', 'NNP'}\n",
      "forth: {'VBP', 'IN', 'VBZ', 'VBD', 'RP', 'JJS', 'NNS', 'VB', 'JJ', 'NN', 'VBN', 'PDT', 'RB'}\n",
      "hath: {'VBD', 'VBP', 'VBZ', 'IN', 'VB', 'MD', 'JJ', 'PRP', 'NN', 'PDT', 'RB'}\n",
      "wherein: {'VBP', 'IN', 'VBZ', 'VBD', 'WRB', 'WDT', \"''\", 'WP', 'NNP', 'VB', 'JJ', 'CC', 'JJR', 'NN', 'RB', 'EX'}\n",
      "behold: {'VBD', 'VBP', 'VB', 'JJ', 'NN', 'VBN', 'CC', 'RB', 'UH'}\n",
      "till: {'VBP', 'IN', 'VBZ', 'VB', 'JJ', 'RB', 'NN', 'CC', 'EX'}\n",
      "evil: {'VBP', 'VBD', 'VBZ', 'EX', 'NNS', 'VB', 'FW', 'JJ', 'NN', 'VBN', 'CC', 'RB'}\n",
      "goeth: {'VBD', 'VBP', 'VBZ', 'VBG', 'NNS', 'VB', 'JJ', 'NN', 'RB'}\n",
      "thou: {'VBD', 'VBP', 'VBZ', 'IN', 'RP', \"''\", 'EX', 'NNS', 'VB', 'NNP', 'MD', 'JJ', 'JJR', 'PRP', 'NN', 'VBN', 'CC', 'RB'}\n",
      "eat: {'VBP', 'IN', 'VBZ', 'VBD', 'VB', 'JJ', 'NN', 'RB', 'NNP'}\n",
      "shalt: {'VBD', 'VBP', 'VBZ', 'NNS', 'VB', 'FW', 'JJ', 'JJR', 'PRP', 'NN', 'VBN', 'RB', 'MD'}\n",
      "thereof: {'VBD', 'VBP', 'VBZ', 'WDT', 'RP', 'EX', 'NNS', 'VB', 'JJ', 'PRP', 'NN', 'RB'}\n",
      "meet: {'VBP', 'VBD', 'VBZ', 'NNS', 'VB', 'FW', 'JJ', 'NN', 'VBN', 'RB'}\n",
      "whatsoever: {'IN', 'WDT', 'WRB', 'WP', 'VB', 'JJ', 'NN', 'CC', 'RB'}\n",
      "ye: {'VBP', 'JJS', 'VBG', 'CD', 'JJR', 'POS', 'CC', 'NNP', \"''\", 'MD', 'PRP', 'NN', 'UH', 'VBD', 'IN', 'RP', 'VB', 'FW', 'JJ', 'VBN', 'RB', 'RBR', 'VBZ', 'NNS', 'PDT', 'EX'}\n",
      "doth: {'VBD', 'VBP', 'VBZ', 'IN', 'VBG', 'NNS', 'VB', 'FW', 'MD', 'JJ', 'RB', 'NN', 'DT', 'POS', 'CC', 'NNP', 'PDT'}\n",
      "wise: {'VBP', 'WDT', 'IN', 'JJS', 'VB', 'JJ', 'NN', 'VBN', 'RB'}\n",
      "heard: {'VBD', 'VBP', 'VBZ', 'NNP', 'VB', 'NNS', 'JJ', 'NN', 'VBN', 'PDT', 'RB'}\n",
      "hid: {'VBP', 'VBD', 'VBZ', 'VB', 'JJ', 'PRP', 'NN', 'VBN', 'RB'}\n",
      "art: {'VBP', 'IN', 'VBZ', 'VBD', 'RP', 'VB', 'JJ', 'NN', 'RB'}\n",
      "thy: {'VBP', 'IN', 'VBZ', 'VBD', 'RP', 'EX', 'NNS', 'VB', 'JJ', 'RB', 'NN', 'VBN', 'CC', 'NNP'}\n",
      "afraid: {'VBD', 'IN', 'RP', 'NNS', 'VB', 'JJ', 'NN', 'VBN', 'RB'}\n",
      "thee: {'VBP', 'IN', 'VBZ', 'VBD', 'RP', 'VBG', 'EX', 'NNS', 'VB', 'JJ', 'CC', 'PRP', 'NN', 'VBN', 'RB', 'MD', 'PDT'}\n",
      "whereof: {'VBP', 'VBD', 'VBZ', 'IN', 'WP', 'VB', 'JJ', 'NN', 'CC'}\n",
      "hast: {'PRP$', 'VBD', 'VBP', 'VBZ', 'JJS', 'NNS', 'VB', 'MD', 'JJ', 'PRP', 'NN', 'VBN', 'RBS', 'RB'}\n",
      "sin: {'VBP', 'VBD', 'VBZ', 'NNP', 'VB', 'JJ', 'NN', 'VBN', 'RB'}\n",
      "whosoever: {'VBP', 'WDT', 'IN', 'WRB', 'WP', 'VB', 'JJ', 'NN', 'RB'}\n",
      "dwelt: {'VBD', 'VBP', 'VBZ', 'IN', 'NNS', 'VB', 'NN', 'VBN', 'RB', 'NNP'}\n",
      "twelve: {'VBP', 'IN', 'RP', 'NNS', 'VB', 'CD', 'JJ', 'NN', 'VBN', 'RB'}\n",
      "ten: {'VBP', 'VBZ', 'RP', 'NNS', 'VB', 'CD', 'JJ', 'NN', 'VBN', 'CC', 'RB'}\n",
      "mighty: {'VBP', 'JJS', 'NNP', 'NNS', 'FW', 'JJ', 'JJR', 'NN', 'VBN', 'RB'}\n",
      "gather: {'VBP', 'VBD', 'IN', 'VBZ', 'VB', 'JJ', 'JJR', 'NN', 'CC', 'RB'}\n",
      "lo: {'VBZ', 'VB', 'FW', 'JJ', 'JJR', 'NN', 'CC', 'RB', 'UH'}\n",
      "smite: {'VBP', 'VBD', 'VBZ', 'VB', 'JJ', 'CC', 'JJR', 'NN', 'PDT'}\n",
      "therein: {'VBP', 'IN', 'VBZ', 'VBD', 'RP', 'EX', 'NNS', 'VB', 'JJ', 'NN', 'VBN', 'RB'}\n",
      ",): {'VBD', 'VBP', 'IN', 'VBZ', 'NNS', 'VB', 'FW', 'JJ', 'NN', 'RB', 'NNP'}\n",
      "shew: {'VBP', 'VBD', 'VBZ', 'VB', 'JJ', 'JJR', 'NN', 'CC', 'RB'}\n",
      "therefore: {'VBP', 'IN', 'VBD', 'EX', 'VB', 'JJR', 'NN', 'VBN', 'CC', 'RB'}\n",
      "wilt: {'VBD', 'VBP', \"''\", 'VBZ', 'WRB', 'JJS', 'IN', 'WP', 'NNS', 'VB', 'JJ', 'NN', 'MD'}\n",
      ";): {'VBD', 'VBP', 'VBZ', 'NNS', 'VB', 'FW', '$', 'JJ', 'RB', 'NN', 'PDT', 'NNP'}\n",
      "whither: {'PRP$', 'VBP', 'IN', 'VBZ', 'VBD', 'WP', 'JJR', 'PRP', 'NN', 'CC', 'RB'}\n",
      "yea: {'NNS', 'FW', 'JJ', 'PRP', 'NN', 'VBN', 'CC', 'RB', 'UH'}\n",
      "sat: {'VBD', 'VBP', 'VBZ', 'VB', 'JJ', 'JJR', 'NN', 'VBN', 'RB'}\n",
      "favour: {'RBR', 'VBP', 'NNS', 'VB', 'CD', 'JJ', 'NN', 'VBN', 'RB'}\n",
      "mercy: {'VBZ', 'NNS', 'VB', 'FW', 'JJ', 'PRP', 'NN', 'VBN', 'RB'}\n",
      "thither: {'VBP', 'IN', 'RP', 'MD', 'JJR', 'PRP', 'NN', 'CC', 'RB'}\n",
      "lie: {'VBP', 'VBD', 'VBZ', 'NNS', 'VB', 'FW', 'NN', 'VBN', 'CC', 'RB'}\n",
      "thousand: {'VBP', 'IN', 'NNS', 'VB', 'CD', 'JJ', 'JJR', 'NN', 'RB'}\n",
      "fast: {'VBP', 'VBD', 'JJS', 'NNS', 'VB', 'JJ', 'NN', 'VBN', 'RB'}\n",
      "afar: {'VBD', 'IN', 'VBZ', 'VBP', 'RP', 'NNS', 'VB', 'PRP', 'NN', 'VBN', 'RB'}\n",
      "worship: {'VBD', 'VBP', 'VBZ', 'WP', 'VB', 'JJ', 'NN', 'VBN', 'CC'}\n",
      "saith: {'VBD', 'VBP', 'VBZ', \"''\", 'VB', 'FW', 'JJ', 'NN', 'PDT', 'RB'}\n",
      "cometh: {'RBR', 'VBP', 'VBD', 'VBZ', 'NNS', 'VB', 'JJ', 'NN', 'RB'}\n",
      "toucheth: {'VBD', 'VBP', 'VBZ', 'IN', 'VBG', 'NNS', 'VB', 'JJ', 'JJR', 'NN', 'EX'}\n",
      "love: {'RBR', 'VBD', 'VBP', 'IN', 'VBZ', 'VB', 'JJR', 'NN', 'VBN', 'RB'}\n",
      "loveth: {'VBD', 'VBP', 'VBZ', 'NNS', 'VB', 'FW', 'JJ', 'NN', 'RB'}\n",
      "wherewith: {'VBD', 'IN', 'VBP', 'VBZ', 'WP', 'VB', 'JJ', 'NN', 'VBN'}\n",
      "abode: {'VBP', 'IN', 'VBZ', 'VBD', 'NNS', 'VB', 'JJ', 'NN', 'VBN', 'RB'}\n",
      "dost: {'VBD', 'VBP', 'JJS', 'VB', 'FW', 'JJ', 'NN', 'VBN', 'RB'}\n",
      "forgotten: {'VBP', 'VBD', 'VBZ', 'NNS', 'VB', 'JJ', 'NN', 'VBN', 'RB'}\n",
      "speaketh: {'VBD', 'VBP', 'VBZ', 'FW', 'JJ', 'NN', 'VBN', 'PDT', 'RB'}\n",
      "honour: {'PRP$', 'VBD', 'VBP', 'NNS', 'VB', 'JJ', 'JJR', 'PRP', 'NN', 'VBN', 'RB'}\n",
      ":): {'VBD', 'VBP', 'VBZ', 'IN', 'NNS', 'FW', '$', 'JJ', 'NN', 'NNP'}\n",
      "maketh: {'VBD', 'VBP', 'VBZ', 'NNS', 'VB', 'FW', 'MD', 'JJ', 'PRP', 'NN', 'RB', 'NNP'}\n",
      "bringeth: {'VBD', 'VBP', 'VBZ', 'IN', 'NNS', 'VB', 'JJ', 'NN', 'RB'}\n",
      "thrust: {'VBD', 'VBP', 'VBG', 'VB', 'JJ', 'CC', 'NN', 'VBN', 'RB', 'EX'}\n",
      "withal: {'VBP', 'IN', 'VBZ', 'VBD', 'WRB', 'VB', 'JJ', 'JJR', 'NN', 'RB'}\n",
      "turneth: {'VBP', 'IN', 'VBZ', 'VBD', 'NNS', 'VB', 'JJ', 'PRP', 'NN', 'RB'}\n",
      "increaseth: {'VBD', 'VBP', 'VBZ', 'IN', 'NNS', 'VB', 'JJ', 'NN', 'VBN'}\n"
     ]
    }
   ],
   "source": [
    "# create a set as the default entry value\n",
    "tags = defaultdict(set)\n",
    "for word, tag in bible_pos:\n",
    "    tags[word].add(tag)\n",
    "\n",
    "# look at words with more than 8 tags:\n",
    "for word, tag_list in tags.items():\n",
    "    if len(tag_list) > 8:\n",
    "        print(\"{}: {}\".format(word, tag_list))"
   ]
  },
  {
   "cell_type": "code",
   "execution_count": 5,
   "id": "49361a99",
   "metadata": {},
   "outputs": [
    {
     "name": "stdout",
     "output_type": "stream",
     "text": [
      "wherein: {'CONJ', 'VERB', 'ADJ', 'NOUN', 'DET', 'ADP', 'ADV', 'PRON', '.'}\n",
      "thou: {'CONJ', 'PRT', 'VERB', 'ADJ', 'NOUN', 'ADP', 'ADV', 'DET', 'PRON', '.'}\n",
      "ye: {'CONJ', 'PRT', 'VERB', 'ADJ', 'NOUN', 'ADV', 'DET', 'NUM', 'ADP', 'X', 'PRON', '.'}\n",
      "doth: {'CONJ', 'PRT', 'VERB', 'ADJ', 'NOUN', 'DET', 'ADP', 'ADV', 'X'}\n",
      "thee: {'CONJ', 'PRT', 'VERB', 'ADJ', 'NOUN', 'ADV', 'ADP', 'DET', 'PRON'}\n"
     ]
    }
   ],
   "source": [
    "# https://www.ling.upenn.edu/courses/Fall_2003/ling001/penn_treebank_pos.html\n",
    "style = \"en-ptb\"  # penn treebank POS\n",
    "\n",
    "simplify = lambda tag : nltk.map_tag(style, \"universal\", tag)\n",
    "\n",
    "def simple_pos(text):\n",
    "    pos = nltk.pos_tag(text)\n",
    "    return [(word, simplify(tag)) for word, tag in pos]\n",
    "\n",
    "# create a set as the default entry value\n",
    "tags = defaultdict(set)\n",
    "for word, tag in simple_pos(bible_words):\n",
    "    tags[word].add(tag)\n",
    "\n",
    "# look at words with more than 8 tags:\n",
    "for word, tag_list in tags.items():\n",
    "    if len(tag_list) > 8:\n",
    "        print(\"{}: {}\".format(word, tag_list))"
   ]
  },
  {
   "cell_type": "code",
   "execution_count": 7,
   "id": "fc7a59af-02c5-44bc-9741-c4793dd2ad7b",
   "metadata": {},
   "outputs": [
    {
     "data": {
      "text/plain": [
       "[('The', 'AT'),\n",
       " ('Fulton', 'NP-TL'),\n",
       " ('County', 'NN-TL'),\n",
       " ('Grand', 'JJ-TL'),\n",
       " ('Jury', 'NN-TL'),\n",
       " ('said', 'VBD'),\n",
       " ('Friday', 'NR'),\n",
       " ('an', 'AT'),\n",
       " ('investigation', 'NN'),\n",
       " ('of', 'IN')]"
      ]
     },
     "execution_count": 7,
     "metadata": {},
     "output_type": "execute_result"
    }
   ],
   "source": [
    "corpus = nltk.corpus.brown\n",
    "corpus.tagged_words()[:10]"
   ]
  },
  {
   "cell_type": "code",
   "execution_count": 8,
   "id": "6e3c1303",
   "metadata": {},
   "outputs": [
    {
     "data": {
      "text/plain": [
       "[('The', 'DET'),\n",
       " ('Fulton', 'NOUN'),\n",
       " ('County', 'NOUN'),\n",
       " ('Grand', 'ADJ'),\n",
       " ('Jury', 'NOUN'),\n",
       " ('said', 'VERB'),\n",
       " ('Friday', 'NOUN'),\n",
       " ('an', 'DET'),\n",
       " ('investigation', 'NOUN'),\n",
       " ('of', 'ADP')]"
      ]
     },
     "execution_count": 8,
     "metadata": {},
     "output_type": "execute_result"
    }
   ],
   "source": [
    "corpus.tagged_words(tagset = \"universal\")[:10]"
   ]
  }
 ],
 "metadata": {
  "interpreter": {
   "hash": "6b8f20c097e32b53f09a95007ec526e0eb5f6178dd7117c218d8f10eacb6c81e"
  },
  "kernelspec": {
   "display_name": "Python 3.9.7 64-bit ('base': conda)",
   "language": "python",
   "name": "python3"
  },
  "language_info": {
   "codemirror_mode": {
    "name": "ipython",
    "version": 3
   },
   "file_extension": ".py",
   "mimetype": "text/x-python",
   "name": "python",
   "nbconvert_exporter": "python",
   "pygments_lexer": "ipython3",
   "version": "3.10.1"
  }
 },
 "nbformat": 4,
 "nbformat_minor": 5
}
